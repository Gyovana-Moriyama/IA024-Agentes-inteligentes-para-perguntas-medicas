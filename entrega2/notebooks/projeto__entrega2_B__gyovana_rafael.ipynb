{
  "cells": [
    {
      "cell_type": "markdown",
      "source": [
        "# Sistemas inteligentes para respostas a perguntas médicas\n",
        "\n",
        "Gyovana M. Moriyama (216190)\n",
        "\n",
        "Rafael A. Matumoto (273085)"
      ],
      "metadata": {
        "id": "gjGl49i4nFNF"
      }
    },
    {
      "cell_type": "code",
      "execution_count": 1,
      "metadata": {
        "id": "1L_fYorlp-4g"
      },
      "outputs": [],
      "source": [
        "!pip install -qU langchain_openai langchain-community  openai datasets pydantic"
      ]
    },
    {
      "cell_type": "code",
      "execution_count": 2,
      "metadata": {
        "id": "xFiIZh9yRc1H"
      },
      "outputs": [],
      "source": [
        "import json\n",
        "import time\n",
        "import re\n",
        "import unicodedata\n",
        "import datetime\n",
        "import os\n",
        "import random\n",
        "import numpy as np\n",
        "import pandas as pd\n",
        "from pydantic import BaseModel\n",
        "from typing import List, Optional, Literal\n",
        "from pydantic import BaseModel, Field\n",
        "from google.colab import userdata, drive\n",
        "from matplotlib import pyplot as plt\n",
        "from tqdm import tqdm\n",
        "from datasets import load_dataset\n",
        "from openai import OpenAI\n",
        "from langchain_openai import ChatOpenAI\n",
        "\n",
        "from langchain_core.prompts import ChatPromptTemplate\n",
        "\n",
        "random.seed(42)"
      ]
    },
    {
      "cell_type": "code",
      "execution_count": 3,
      "metadata": {
        "colab": {
          "base_uri": "https://localhost:8080/"
        },
        "id": "qIf2JoaJZAW-",
        "outputId": "853b2d55-5075-4747-df0d-6bdb380f9afc"
      },
      "outputs": [
        {
          "output_type": "stream",
          "name": "stdout",
          "text": [
            "Drive already mounted at /content/drive; to attempt to forcibly remount, call drive.mount(\"/content/drive\", force_remount=True).\n"
          ]
        }
      ],
      "source": [
        "drive.mount('/content/drive')"
      ]
    },
    {
      "cell_type": "code",
      "source": [
        "os.environ[\"OPENAI_API_KEY\"] = userdata.get('OPENAI_API_KEY')"
      ],
      "metadata": {
        "id": "vNrUShbx39s7"
      },
      "execution_count": 4,
      "outputs": []
    },
    {
      "cell_type": "markdown",
      "source": [
        "#Dataset MedQA-USMLE-4-options"
      ],
      "metadata": {
        "id": "vu3kOZHrzCUO"
      }
    },
    {
      "cell_type": "code",
      "source": [
        "#Loads the dataset with the test questions\n",
        "data = load_dataset('GBaker/MedQA-USMLE-4-options', split='test')"
      ],
      "metadata": {
        "colab": {
          "base_uri": "https://localhost:8080/"
        },
        "id": "VKx6mkdazDtr",
        "outputId": "d026224b-a6da-4c09-da73-6062deb9920e"
      },
      "execution_count": 5,
      "outputs": [
        {
          "output_type": "stream",
          "name": "stderr",
          "text": [
            "/usr/local/lib/python3.10/dist-packages/huggingface_hub/utils/_token.py:89: UserWarning: \n",
            "The secret `HF_TOKEN` does not exist in your Colab secrets.\n",
            "To authenticate with the Hugging Face Hub, create a token in your settings tab (https://huggingface.co/settings/tokens), set it as secret in your Google Colab and restart your session.\n",
            "You will be able to reuse this secret in all of your notebooks.\n",
            "Please note that authentication is recommended but still optional to access public models or datasets.\n",
            "  warnings.warn(\n"
          ]
        }
      ]
    },
    {
      "cell_type": "code",
      "source": [
        "test_data_df = data.to_pandas()"
      ],
      "metadata": {
        "id": "j3gPG5FDzGr0"
      },
      "execution_count": 6,
      "outputs": []
    },
    {
      "cell_type": "code",
      "source": [
        "test_data_df.head()"
      ],
      "metadata": {
        "colab": {
          "base_uri": "https://localhost:8080/",
          "height": 206
        },
        "id": "Kam8867tzcqe",
        "outputId": "0063e6ec-fba1-45df-ced4-3559b559d312"
      },
      "execution_count": 7,
      "outputs": [
        {
          "output_type": "execute_result",
          "data": {
            "text/plain": [
              "                                            question  \\\n",
              "0  A junior orthopaedic surgery resident is compl...   \n",
              "1  A 67-year-old man with transitional cell carci...   \n",
              "2  Two weeks after undergoing an emergency cardia...   \n",
              "3  A 39-year-old woman is brought to the emergenc...   \n",
              "4  A 35-year-old man comes to the physician becau...   \n",
              "\n",
              "                                              answer  \\\n",
              "0  Tell the attending that he cannot fail to disc...   \n",
              "1                               Cross-linking of DNA   \n",
              "2                           Cholesterol embolization   \n",
              "3  Lactose-fermenting, gram-negative rods forming...   \n",
              "4                                Ketotifen eye drops   \n",
              "\n",
              "                                             options meta_info answer_idx  \\\n",
              "0  {'A': 'Disclose the error to the patient and p...     step1          B   \n",
              "1  {'A': 'Inhibition of proteasome', 'B': 'Hypers...     step1          D   \n",
              "2  {'A': 'Renal papillary necrosis', 'B': 'Choles...   step2&3          B   \n",
              "3  {'A': 'Coagulase-positive, gram-positive cocci...     step1          D   \n",
              "4  {'A': 'Erythromycin ointment', 'B': 'Ketotifen...   step2&3          B   \n",
              "\n",
              "                                     metamap_phrases  \n",
              "0  [junior orthopaedic surgery resident, completi...  \n",
              "1  [67 year old man, transitional cell carcinoma ...  \n",
              "2  [Two weeks, emergency cardiac, stenting, unsta...  \n",
              "3  [year old woman, brought, emergency department...  \n",
              "4  [35 year old man, physician, of itchy, watery,...  "
            ],
            "text/html": [
              "\n",
              "  <div id=\"df-8b3e5403-e339-4baf-993a-c0e725e0755f\" class=\"colab-df-container\">\n",
              "    <div>\n",
              "<style scoped>\n",
              "    .dataframe tbody tr th:only-of-type {\n",
              "        vertical-align: middle;\n",
              "    }\n",
              "\n",
              "    .dataframe tbody tr th {\n",
              "        vertical-align: top;\n",
              "    }\n",
              "\n",
              "    .dataframe thead th {\n",
              "        text-align: right;\n",
              "    }\n",
              "</style>\n",
              "<table border=\"1\" class=\"dataframe\">\n",
              "  <thead>\n",
              "    <tr style=\"text-align: right;\">\n",
              "      <th></th>\n",
              "      <th>question</th>\n",
              "      <th>answer</th>\n",
              "      <th>options</th>\n",
              "      <th>meta_info</th>\n",
              "      <th>answer_idx</th>\n",
              "      <th>metamap_phrases</th>\n",
              "    </tr>\n",
              "  </thead>\n",
              "  <tbody>\n",
              "    <tr>\n",
              "      <th>0</th>\n",
              "      <td>A junior orthopaedic surgery resident is compl...</td>\n",
              "      <td>Tell the attending that he cannot fail to disc...</td>\n",
              "      <td>{'A': 'Disclose the error to the patient and p...</td>\n",
              "      <td>step1</td>\n",
              "      <td>B</td>\n",
              "      <td>[junior orthopaedic surgery resident, completi...</td>\n",
              "    </tr>\n",
              "    <tr>\n",
              "      <th>1</th>\n",
              "      <td>A 67-year-old man with transitional cell carci...</td>\n",
              "      <td>Cross-linking of DNA</td>\n",
              "      <td>{'A': 'Inhibition of proteasome', 'B': 'Hypers...</td>\n",
              "      <td>step1</td>\n",
              "      <td>D</td>\n",
              "      <td>[67 year old man, transitional cell carcinoma ...</td>\n",
              "    </tr>\n",
              "    <tr>\n",
              "      <th>2</th>\n",
              "      <td>Two weeks after undergoing an emergency cardia...</td>\n",
              "      <td>Cholesterol embolization</td>\n",
              "      <td>{'A': 'Renal papillary necrosis', 'B': 'Choles...</td>\n",
              "      <td>step2&amp;3</td>\n",
              "      <td>B</td>\n",
              "      <td>[Two weeks, emergency cardiac, stenting, unsta...</td>\n",
              "    </tr>\n",
              "    <tr>\n",
              "      <th>3</th>\n",
              "      <td>A 39-year-old woman is brought to the emergenc...</td>\n",
              "      <td>Lactose-fermenting, gram-negative rods forming...</td>\n",
              "      <td>{'A': 'Coagulase-positive, gram-positive cocci...</td>\n",
              "      <td>step1</td>\n",
              "      <td>D</td>\n",
              "      <td>[year old woman, brought, emergency department...</td>\n",
              "    </tr>\n",
              "    <tr>\n",
              "      <th>4</th>\n",
              "      <td>A 35-year-old man comes to the physician becau...</td>\n",
              "      <td>Ketotifen eye drops</td>\n",
              "      <td>{'A': 'Erythromycin ointment', 'B': 'Ketotifen...</td>\n",
              "      <td>step2&amp;3</td>\n",
              "      <td>B</td>\n",
              "      <td>[35 year old man, physician, of itchy, watery,...</td>\n",
              "    </tr>\n",
              "  </tbody>\n",
              "</table>\n",
              "</div>\n",
              "    <div class=\"colab-df-buttons\">\n",
              "\n",
              "  <div class=\"colab-df-container\">\n",
              "    <button class=\"colab-df-convert\" onclick=\"convertToInteractive('df-8b3e5403-e339-4baf-993a-c0e725e0755f')\"\n",
              "            title=\"Convert this dataframe to an interactive table.\"\n",
              "            style=\"display:none;\">\n",
              "\n",
              "  <svg xmlns=\"http://www.w3.org/2000/svg\" height=\"24px\" viewBox=\"0 -960 960 960\">\n",
              "    <path d=\"M120-120v-720h720v720H120Zm60-500h600v-160H180v160Zm220 220h160v-160H400v160Zm0 220h160v-160H400v160ZM180-400h160v-160H180v160Zm440 0h160v-160H620v160ZM180-180h160v-160H180v160Zm440 0h160v-160H620v160Z\"/>\n",
              "  </svg>\n",
              "    </button>\n",
              "\n",
              "  <style>\n",
              "    .colab-df-container {\n",
              "      display:flex;\n",
              "      gap: 12px;\n",
              "    }\n",
              "\n",
              "    .colab-df-convert {\n",
              "      background-color: #E8F0FE;\n",
              "      border: none;\n",
              "      border-radius: 50%;\n",
              "      cursor: pointer;\n",
              "      display: none;\n",
              "      fill: #1967D2;\n",
              "      height: 32px;\n",
              "      padding: 0 0 0 0;\n",
              "      width: 32px;\n",
              "    }\n",
              "\n",
              "    .colab-df-convert:hover {\n",
              "      background-color: #E2EBFA;\n",
              "      box-shadow: 0px 1px 2px rgba(60, 64, 67, 0.3), 0px 1px 3px 1px rgba(60, 64, 67, 0.15);\n",
              "      fill: #174EA6;\n",
              "    }\n",
              "\n",
              "    .colab-df-buttons div {\n",
              "      margin-bottom: 4px;\n",
              "    }\n",
              "\n",
              "    [theme=dark] .colab-df-convert {\n",
              "      background-color: #3B4455;\n",
              "      fill: #D2E3FC;\n",
              "    }\n",
              "\n",
              "    [theme=dark] .colab-df-convert:hover {\n",
              "      background-color: #434B5C;\n",
              "      box-shadow: 0px 1px 3px 1px rgba(0, 0, 0, 0.15);\n",
              "      filter: drop-shadow(0px 1px 2px rgba(0, 0, 0, 0.3));\n",
              "      fill: #FFFFFF;\n",
              "    }\n",
              "  </style>\n",
              "\n",
              "    <script>\n",
              "      const buttonEl =\n",
              "        document.querySelector('#df-8b3e5403-e339-4baf-993a-c0e725e0755f button.colab-df-convert');\n",
              "      buttonEl.style.display =\n",
              "        google.colab.kernel.accessAllowed ? 'block' : 'none';\n",
              "\n",
              "      async function convertToInteractive(key) {\n",
              "        const element = document.querySelector('#df-8b3e5403-e339-4baf-993a-c0e725e0755f');\n",
              "        const dataTable =\n",
              "          await google.colab.kernel.invokeFunction('convertToInteractive',\n",
              "                                                    [key], {});\n",
              "        if (!dataTable) return;\n",
              "\n",
              "        const docLinkHtml = 'Like what you see? Visit the ' +\n",
              "          '<a target=\"_blank\" href=https://colab.research.google.com/notebooks/data_table.ipynb>data table notebook</a>'\n",
              "          + ' to learn more about interactive tables.';\n",
              "        element.innerHTML = '';\n",
              "        dataTable['output_type'] = 'display_data';\n",
              "        await google.colab.output.renderOutput(dataTable, element);\n",
              "        const docLink = document.createElement('div');\n",
              "        docLink.innerHTML = docLinkHtml;\n",
              "        element.appendChild(docLink);\n",
              "      }\n",
              "    </script>\n",
              "  </div>\n",
              "\n",
              "\n",
              "<div id=\"df-92255ece-c4b3-4101-9a71-92f97b617be3\">\n",
              "  <button class=\"colab-df-quickchart\" onclick=\"quickchart('df-92255ece-c4b3-4101-9a71-92f97b617be3')\"\n",
              "            title=\"Suggest charts\"\n",
              "            style=\"display:none;\">\n",
              "\n",
              "<svg xmlns=\"http://www.w3.org/2000/svg\" height=\"24px\"viewBox=\"0 0 24 24\"\n",
              "     width=\"24px\">\n",
              "    <g>\n",
              "        <path d=\"M19 3H5c-1.1 0-2 .9-2 2v14c0 1.1.9 2 2 2h14c1.1 0 2-.9 2-2V5c0-1.1-.9-2-2-2zM9 17H7v-7h2v7zm4 0h-2V7h2v10zm4 0h-2v-4h2v4z\"/>\n",
              "    </g>\n",
              "</svg>\n",
              "  </button>\n",
              "\n",
              "<style>\n",
              "  .colab-df-quickchart {\n",
              "      --bg-color: #E8F0FE;\n",
              "      --fill-color: #1967D2;\n",
              "      --hover-bg-color: #E2EBFA;\n",
              "      --hover-fill-color: #174EA6;\n",
              "      --disabled-fill-color: #AAA;\n",
              "      --disabled-bg-color: #DDD;\n",
              "  }\n",
              "\n",
              "  [theme=dark] .colab-df-quickchart {\n",
              "      --bg-color: #3B4455;\n",
              "      --fill-color: #D2E3FC;\n",
              "      --hover-bg-color: #434B5C;\n",
              "      --hover-fill-color: #FFFFFF;\n",
              "      --disabled-bg-color: #3B4455;\n",
              "      --disabled-fill-color: #666;\n",
              "  }\n",
              "\n",
              "  .colab-df-quickchart {\n",
              "    background-color: var(--bg-color);\n",
              "    border: none;\n",
              "    border-radius: 50%;\n",
              "    cursor: pointer;\n",
              "    display: none;\n",
              "    fill: var(--fill-color);\n",
              "    height: 32px;\n",
              "    padding: 0;\n",
              "    width: 32px;\n",
              "  }\n",
              "\n",
              "  .colab-df-quickchart:hover {\n",
              "    background-color: var(--hover-bg-color);\n",
              "    box-shadow: 0 1px 2px rgba(60, 64, 67, 0.3), 0 1px 3px 1px rgba(60, 64, 67, 0.15);\n",
              "    fill: var(--button-hover-fill-color);\n",
              "  }\n",
              "\n",
              "  .colab-df-quickchart-complete:disabled,\n",
              "  .colab-df-quickchart-complete:disabled:hover {\n",
              "    background-color: var(--disabled-bg-color);\n",
              "    fill: var(--disabled-fill-color);\n",
              "    box-shadow: none;\n",
              "  }\n",
              "\n",
              "  .colab-df-spinner {\n",
              "    border: 2px solid var(--fill-color);\n",
              "    border-color: transparent;\n",
              "    border-bottom-color: var(--fill-color);\n",
              "    animation:\n",
              "      spin 1s steps(1) infinite;\n",
              "  }\n",
              "\n",
              "  @keyframes spin {\n",
              "    0% {\n",
              "      border-color: transparent;\n",
              "      border-bottom-color: var(--fill-color);\n",
              "      border-left-color: var(--fill-color);\n",
              "    }\n",
              "    20% {\n",
              "      border-color: transparent;\n",
              "      border-left-color: var(--fill-color);\n",
              "      border-top-color: var(--fill-color);\n",
              "    }\n",
              "    30% {\n",
              "      border-color: transparent;\n",
              "      border-left-color: var(--fill-color);\n",
              "      border-top-color: var(--fill-color);\n",
              "      border-right-color: var(--fill-color);\n",
              "    }\n",
              "    40% {\n",
              "      border-color: transparent;\n",
              "      border-right-color: var(--fill-color);\n",
              "      border-top-color: var(--fill-color);\n",
              "    }\n",
              "    60% {\n",
              "      border-color: transparent;\n",
              "      border-right-color: var(--fill-color);\n",
              "    }\n",
              "    80% {\n",
              "      border-color: transparent;\n",
              "      border-right-color: var(--fill-color);\n",
              "      border-bottom-color: var(--fill-color);\n",
              "    }\n",
              "    90% {\n",
              "      border-color: transparent;\n",
              "      border-bottom-color: var(--fill-color);\n",
              "    }\n",
              "  }\n",
              "</style>\n",
              "\n",
              "  <script>\n",
              "    async function quickchart(key) {\n",
              "      const quickchartButtonEl =\n",
              "        document.querySelector('#' + key + ' button');\n",
              "      quickchartButtonEl.disabled = true;  // To prevent multiple clicks.\n",
              "      quickchartButtonEl.classList.add('colab-df-spinner');\n",
              "      try {\n",
              "        const charts = await google.colab.kernel.invokeFunction(\n",
              "            'suggestCharts', [key], {});\n",
              "      } catch (error) {\n",
              "        console.error('Error during call to suggestCharts:', error);\n",
              "      }\n",
              "      quickchartButtonEl.classList.remove('colab-df-spinner');\n",
              "      quickchartButtonEl.classList.add('colab-df-quickchart-complete');\n",
              "    }\n",
              "    (() => {\n",
              "      let quickchartButtonEl =\n",
              "        document.querySelector('#df-92255ece-c4b3-4101-9a71-92f97b617be3 button');\n",
              "      quickchartButtonEl.style.display =\n",
              "        google.colab.kernel.accessAllowed ? 'block' : 'none';\n",
              "    })();\n",
              "  </script>\n",
              "</div>\n",
              "\n",
              "    </div>\n",
              "  </div>\n"
            ],
            "application/vnd.google.colaboratory.intrinsic+json": {
              "type": "dataframe",
              "variable_name": "test_data_df",
              "summary": "{\n  \"name\": \"test_data_df\",\n  \"rows\": 1273,\n  \"fields\": [\n    {\n      \"column\": \"question\",\n      \"properties\": {\n        \"dtype\": \"string\",\n        \"num_unique_values\": 1273,\n        \"samples\": [\n          \"A healthy 23-year-old male is undergoing an exercise stress test as part of his physiology class. If blood were to be sampled at different locations before and after the stress test, which area of the body would contain the lowest oxygen content at both time points?\",\n          \"A 31-year-old female patient presents with significant swelling and redness of her fingers that is causing her significant pain. Her right knee has also been stiff and slightly swollen for the past 6 weeks. She is overall fatigued and has difficulty moving around but has not sought medical attention until now. On physical examination, the distal interphalangeal joints are swollen, warm, and painful; her nails are pitted and cracked. There are also rough, erythematous skin patches seen over her elbows which have been present for the last few months. She reports that herer father has a similar condition. They both use hydrating creams and topical glucocorticoids with moderate benefit. Which of the following is the most likely diagnosis?\",\n          \"A 47-year-old woman comes to the physician because of progressive muscle weakness for five months. She feels that the muscles in her shoulders and hips have been getting weaker and sometimes feel sore. She now has difficulty getting up from chairs, climbing stairs, and combing her hair. She has also noticed new difficulty with swallowing solid foods, but has no trouble with liquids. She has a 5-year history of hyperlipidemia controlled with fluvastatin. Her maternal uncle died at age 26 from Duchenne's muscular dystrophy and her mother has Hashimoto's thyroiditis. Vital signs are within normal limits. Neurologic examination shows moderate weakness in the arm abductors and hip flexors bilaterally. Deep tendon reflexes are 2+ bilaterally. Laboratory studies show:\\nHemoglobin 13.7 g/dL\\nLeukocytes 11,200/mm3\\nErythrocyte sedimentation rate 33 mm/h\\nSerum\\nCreatine kinase 212 U/L\\nLactate dehydrogenase 164 U/L\\nAST 34 U/L\\nALT 35 U/L\\nWhich of the following is most likely to confirm the diagnosis?\\\"\"\n        ],\n        \"semantic_type\": \"\",\n        \"description\": \"\"\n      }\n    },\n    {\n      \"column\": \"answer\",\n      \"properties\": {\n        \"dtype\": \"string\",\n        \"num_unique_values\": 1217,\n        \"samples\": [\n          \"1 month of associated symptoms \",\n          \"\\u2193 \\u2191 \\u2193\",\n          \"Coronary sinus\"\n        ],\n        \"semantic_type\": \"\",\n        \"description\": \"\"\n      }\n    },\n    {\n      \"column\": \"options\",\n      \"properties\": {\n        \"dtype\": \"object\",\n        \"semantic_type\": \"\",\n        \"description\": \"\"\n      }\n    },\n    {\n      \"column\": \"meta_info\",\n      \"properties\": {\n        \"dtype\": \"category\",\n        \"num_unique_values\": 2,\n        \"samples\": [\n          \"step2&3\",\n          \"step1\"\n        ],\n        \"semantic_type\": \"\",\n        \"description\": \"\"\n      }\n    },\n    {\n      \"column\": \"answer_idx\",\n      \"properties\": {\n        \"dtype\": \"category\",\n        \"num_unique_values\": 4,\n        \"samples\": [\n          \"D\",\n          \"A\"\n        ],\n        \"semantic_type\": \"\",\n        \"description\": \"\"\n      }\n    },\n    {\n      \"column\": \"metamap_phrases\",\n      \"properties\": {\n        \"dtype\": \"object\",\n        \"semantic_type\": \"\",\n        \"description\": \"\"\n      }\n    }\n  ]\n}"
            }
          },
          "metadata": {},
          "execution_count": 7
        }
      ]
    },
    {
      "cell_type": "markdown",
      "source": [
        "# Baseline\n",
        "\n",
        "- Verifies the accuracy of the random guessing answers\n",
        "- Verifies the accuracy with zero-shot prompt\n",
        "\n",
        "Notebook output: accuracy in test dataset"
      ],
      "metadata": {
        "id": "wt4sRl_VUGGX"
      }
    },
    {
      "cell_type": "markdown",
      "source": [
        "## Random guessing"
      ],
      "metadata": {
        "id": "A0amXlI0y5VY"
      }
    },
    {
      "cell_type": "code",
      "source": [
        "def guessing_accuracy(df, step=None):\n",
        "  '''\n",
        "  Calculates the accuracy of guessing the answer randomly.\n",
        "  df (Dataframe): Dataframe with the questions\n",
        "  step (str): Step of the question (step1, step2&3)\n",
        "\n",
        "  Returns:\n",
        "  (float, float): Mean and standard deviation of the accuracy\n",
        "  '''\n",
        "\n",
        "  res = list()\n",
        "  rng = np.random.default_rng(42)\n",
        "\n",
        "  if step is None: #calculates for the whole dataset\n",
        "      step_data = df.copy()\n",
        "  else: #calculates for the given step\n",
        "      step_data = df[df['meta_info'].eq(step)].copy()\n",
        "\n",
        "  #makes the random guess 100 times\n",
        "  for _ in range(100):\n",
        "      # gets a random answer from A to D for all questions and calculates the accuracy\n",
        "      step_data['random_guess'] = np.random.choice(['A', 'B', 'C', 'D'], size=len(step_data))\n",
        "      res.append(step_data['answer_idx'].eq(step_data['random_guess']).mean())\n",
        "\n",
        "  res = np.array(res)\n",
        "  return res.mean(), res.std()"
      ],
      "metadata": {
        "id": "2ls09Eruv9oL"
      },
      "execution_count": 8,
      "outputs": []
    },
    {
      "cell_type": "code",
      "source": [
        "# random guessing accuracy\n",
        "guessing_accuracy(test_data_df)"
      ],
      "metadata": {
        "id": "wTjzd3pUwCKd",
        "colab": {
          "base_uri": "https://localhost:8080/"
        },
        "outputId": "aae71783-0f3a-49b1-f77b-017e1247c099"
      },
      "execution_count": 9,
      "outputs": [
        {
          "output_type": "execute_result",
          "data": {
            "text/plain": [
              "(0.2514846818538885, 0.011526408702273326)"
            ]
          },
          "metadata": {},
          "execution_count": 9
        }
      ]
    },
    {
      "cell_type": "code",
      "source": [
        "# random guessing accuracy in step1 questions\n",
        "guessing_accuracy(test_data_df, step='step1')"
      ],
      "metadata": {
        "colab": {
          "base_uri": "https://localhost:8080/"
        },
        "id": "4MmJscOmzKvr",
        "outputId": "31124bbd-c480-4bfa-a12b-034c9d3edfc8"
      },
      "execution_count": 10,
      "outputs": [
        {
          "output_type": "execute_result",
          "data": {
            "text/plain": [
              "(0.24933726067746684, 0.015252073031817364)"
            ]
          },
          "metadata": {},
          "execution_count": 10
        }
      ]
    },
    {
      "cell_type": "code",
      "source": [
        "# random guessing accuracy in step2&3 questions\n",
        "guessing_accuracy(test_data_df, step='step2&3')"
      ],
      "metadata": {
        "colab": {
          "base_uri": "https://localhost:8080/"
        },
        "id": "M1hbdIDYzLqU",
        "outputId": "1ba7ba69-11ec-4c33-8d8a-601fc3aad3f1"
      },
      "execution_count": 11,
      "outputs": [
        {
          "output_type": "execute_result",
          "data": {
            "text/plain": [
              "(0.24996632996632998, 0.01816073100642074)"
            ]
          },
          "metadata": {},
          "execution_count": 11
        }
      ]
    },
    {
      "cell_type": "code",
      "source": [
        "# question length in number of characters\n",
        "test_data_df['question'].str.len().describe()"
      ],
      "metadata": {
        "colab": {
          "base_uri": "https://localhost:8080/",
          "height": 335
        },
        "id": "6gHm3xDfzMcD",
        "outputId": "629cad71-1674-472f-d19f-7760da892982"
      },
      "execution_count": 12,
      "outputs": [
        {
          "output_type": "execute_result",
          "data": {
            "text/plain": [
              "count    1273.000000\n",
              "mean      745.579733\n",
              "std       304.233918\n",
              "min        67.000000\n",
              "25%       536.000000\n",
              "50%       715.000000\n",
              "75%       909.000000\n",
              "max      3543.000000\n",
              "Name: question, dtype: float64"
            ],
            "text/html": [
              "<div>\n",
              "<style scoped>\n",
              "    .dataframe tbody tr th:only-of-type {\n",
              "        vertical-align: middle;\n",
              "    }\n",
              "\n",
              "    .dataframe tbody tr th {\n",
              "        vertical-align: top;\n",
              "    }\n",
              "\n",
              "    .dataframe thead th {\n",
              "        text-align: right;\n",
              "    }\n",
              "</style>\n",
              "<table border=\"1\" class=\"dataframe\">\n",
              "  <thead>\n",
              "    <tr style=\"text-align: right;\">\n",
              "      <th></th>\n",
              "      <th>question</th>\n",
              "    </tr>\n",
              "  </thead>\n",
              "  <tbody>\n",
              "    <tr>\n",
              "      <th>count</th>\n",
              "      <td>1273.000000</td>\n",
              "    </tr>\n",
              "    <tr>\n",
              "      <th>mean</th>\n",
              "      <td>745.579733</td>\n",
              "    </tr>\n",
              "    <tr>\n",
              "      <th>std</th>\n",
              "      <td>304.233918</td>\n",
              "    </tr>\n",
              "    <tr>\n",
              "      <th>min</th>\n",
              "      <td>67.000000</td>\n",
              "    </tr>\n",
              "    <tr>\n",
              "      <th>25%</th>\n",
              "      <td>536.000000</td>\n",
              "    </tr>\n",
              "    <tr>\n",
              "      <th>50%</th>\n",
              "      <td>715.000000</td>\n",
              "    </tr>\n",
              "    <tr>\n",
              "      <th>75%</th>\n",
              "      <td>909.000000</td>\n",
              "    </tr>\n",
              "    <tr>\n",
              "      <th>max</th>\n",
              "      <td>3543.000000</td>\n",
              "    </tr>\n",
              "  </tbody>\n",
              "</table>\n",
              "</div><br><label><b>dtype:</b> float64</label>"
            ]
          },
          "metadata": {},
          "execution_count": 12
        }
      ]
    },
    {
      "cell_type": "markdown",
      "source": [
        "## Model"
      ],
      "metadata": {
        "id": "6gozwIW-0M4_"
      }
    },
    {
      "cell_type": "code",
      "execution_count": 13,
      "metadata": {
        "id": "tK18pVZcGGrI"
      },
      "outputs": [],
      "source": [
        "client = OpenAI()"
      ]
    },
    {
      "cell_type": "markdown",
      "source": [
        "Testing gpt-4o-mini model"
      ],
      "metadata": {
        "id": "xcnNExmtyuiV"
      }
    },
    {
      "cell_type": "code",
      "source": [
        "response = client.chat.completions.create(\n",
        "    model=\"gpt-4o-mini\",\n",
        "    messages=[\n",
        "        {\"role\": \"system\", \"content\": \"You are a helpful assistant.\"},\n",
        "        {\n",
        "            \"role\": \"user\",\n",
        "            \"content\": \"What's your current version\"\n",
        "        }\n",
        "    ]\n",
        ")\n",
        "response.choices[0].message.content"
      ],
      "metadata": {
        "colab": {
          "base_uri": "https://localhost:8080/",
          "height": 53
        },
        "id": "ZAzOowkhythf",
        "outputId": "efb15738-bdcd-4c4c-969e-d91fabb565b2"
      },
      "execution_count": 14,
      "outputs": [
        {
          "output_type": "execute_result",
          "data": {
            "text/plain": [
              "\"I’m based on OpenAI's GPT-3 model, and my training includes data up to October 2021. I don’t have a version number like traditional software; instead, I use the capabilities of the GPT-3 model. If you have specific questions or need assistance, feel free to ask!\""
            ],
            "application/vnd.google.colaboratory.intrinsic+json": {
              "type": "string"
            }
          },
          "metadata": {},
          "execution_count": 14
        }
      ]
    },
    {
      "cell_type": "code",
      "source": [
        "model = 'gpt-4o-mini'\n",
        "model_temp = 0.5"
      ],
      "metadata": {
        "id": "uXI-Gpk1KXm3"
      },
      "execution_count": 15,
      "outputs": []
    },
    {
      "cell_type": "code",
      "source": [
        "llm = ChatOpenAI(model=model, temperature=model_temp)"
      ],
      "metadata": {
        "id": "ga5y0Sf2znXQ"
      },
      "execution_count": 16,
      "outputs": []
    },
    {
      "cell_type": "code",
      "source": [
        "class Answer(BaseModel):\n",
        "    answer: Literal['A', 'B', 'C', 'D'] = Field(description='Final answer to the question')"
      ],
      "metadata": {
        "id": "q9_gpK3L2mo-"
      },
      "execution_count": 17,
      "outputs": []
    },
    {
      "cell_type": "markdown",
      "source": [
        "## Vanilla Zero-shot"
      ],
      "metadata": {
        "id": "tZbeIDZYy7jU"
      }
    },
    {
      "cell_type": "code",
      "source": [
        "prompt = '''\n",
        " question: {question}\n",
        " options: {options}\n",
        " Among A through D, the answer is:\n",
        "'''.strip()"
      ],
      "metadata": {
        "id": "x9aaeddUmeQy"
      },
      "execution_count": 18,
      "outputs": []
    },
    {
      "cell_type": "code",
      "source": [
        "#Creates a ChatPromptTemplate object from a raw template string.\n",
        "prompt_template = ChatPromptTemplate.from_template(prompt)\n",
        "\n",
        "#Creates a processing chain that combines a prompt template with a language model to generate statements and then structutures the output\n",
        "chain_prompt = prompt_template | llm.with_structured_output(Answer, include_raw=True)"
      ],
      "metadata": {
        "id": "25LHuUrDKxSb"
      },
      "execution_count": 19,
      "outputs": []
    },
    {
      "cell_type": "code",
      "source": [
        "answers = list()\n",
        "#saves the outputs in a txt file\n",
        "with open(f'/content/drive/MyDrive/IA024A_Processamento_de_Linguagem_Natural/Projeto Final/projeto/entrega2/answers_vanilla_{datetime.datetime.now().strftime(\"%Y%m%d_%H%M%S\")}.txt', 'w') as f:\n",
        "\n",
        "    f.write(''.center(10, '-'))\n",
        "    f.write('\\n')\n",
        "    f.write(f'Model: {model}\\n')\n",
        "    f.write(f'Temperature: {model_temp}\\n')\n",
        "    f.write(f'Prompt: {prompt}\\n')\n",
        "    f.write(''.center(10, '-'))\n",
        "    f.write('\\n')\n",
        "\n",
        "    f.write(';Answer\\n')\n",
        "    for n, question in enumerate(tqdm(data)):\n",
        "\n",
        "        #Generate the answers\n",
        "        res = chain_prompt.invoke({'question': question['question'], 'options': question['options']})\n",
        "\n",
        "        #Stores the answers if there is no error\n",
        "        if res['parsing_error'] is None:\n",
        "            answers.append(res['parsed'].answer)\n",
        "            f.write(f'{n};{res[\"parsed\"].answer}\"\\n')\n",
        "        else:\n",
        "            answers.append(None)\n",
        "            f.write(f'{n};\\n')"
      ],
      "metadata": {
        "colab": {
          "base_uri": "https://localhost:8080/"
        },
        "id": "K-68pjYeOc23",
        "outputId": "3c9a9301-7cdf-4eed-9a6a-a9c614e75f21"
      },
      "execution_count": 20,
      "outputs": [
        {
          "output_type": "stream",
          "name": "stderr",
          "text": [
            "100%|██████████| 1273/1273 [13:44<00:00,  1.54it/s]\n"
          ]
        }
      ]
    },
    {
      "cell_type": "code",
      "source": [
        "#Number of questions the model answered\n",
        "len(answers)"
      ],
      "metadata": {
        "colab": {
          "base_uri": "https://localhost:8080/"
        },
        "id": "cI2QVhsr7gO0",
        "outputId": "4bc45ebe-b6cc-4db3-b911-03515b491f48"
      },
      "execution_count": 21,
      "outputs": [
        {
          "output_type": "execute_result",
          "data": {
            "text/plain": [
              "1273"
            ]
          },
          "metadata": {},
          "execution_count": 21
        }
      ]
    },
    {
      "cell_type": "code",
      "source": [
        "res"
      ],
      "metadata": {
        "colab": {
          "base_uri": "https://localhost:8080/"
        },
        "id": "msDr0o2UXBXn",
        "outputId": "1b76350a-a83c-4294-e615-532c2f4e1f3d"
      },
      "execution_count": 22,
      "outputs": [
        {
          "output_type": "execute_result",
          "data": {
            "text/plain": [
              "{'raw': AIMessage(content='', additional_kwargs={'tool_calls': [{'id': 'call_1COrD3jmPXAM2DZgXdUGI58s', 'function': {'arguments': '{\"answer\":\"C\"}', 'name': 'Answer'}, 'type': 'function'}], 'refusal': None}, response_metadata={'token_usage': {'completion_tokens': 5, 'prompt_tokens': 275, 'total_tokens': 280, 'completion_tokens_details': {'audio_tokens': None, 'reasoning_tokens': 0}, 'prompt_tokens_details': {'audio_tokens': None, 'cached_tokens': 0}}, 'model_name': 'gpt-4o-mini-2024-07-18', 'system_fingerprint': 'fp_0ba0d124f1', 'finish_reason': 'stop', 'logprobs': None}, id='run-a40fb3cf-406d-4ee4-8b1b-97003df18b64-0', tool_calls=[{'name': 'Answer', 'args': {'answer': 'C'}, 'id': 'call_1COrD3jmPXAM2DZgXdUGI58s', 'type': 'tool_call'}], usage_metadata={'input_tokens': 275, 'output_tokens': 5, 'total_tokens': 280, 'input_token_details': {'cache_read': 0}, 'output_token_details': {'reasoning': 0}}),\n",
              " 'parsed': Answer(answer='C'),\n",
              " 'parsing_error': None}"
            ]
          },
          "metadata": {},
          "execution_count": 22
        }
      ]
    },
    {
      "cell_type": "code",
      "source": [
        "data2 = data.add_column('answer_gpt4', answers)"
      ],
      "metadata": {
        "id": "tzhutv2TYg2l"
      },
      "execution_count": 23,
      "outputs": []
    },
    {
      "cell_type": "code",
      "source": [
        "data2_df = data2.to_pandas()\n",
        "data2_df.to_csv('/content/drive/MyDrive/IA024A_Processamento_de_Linguagem_Natural/Projeto Final/projeto/entrega2/vanilla/answers_vanilla.csv')"
      ],
      "metadata": {
        "id": "Qy5XIVA3YtC0"
      },
      "execution_count": 24,
      "outputs": []
    },
    {
      "cell_type": "code",
      "source": [
        "#Dataset with model answers and correct answers\n",
        "data2_df"
      ],
      "metadata": {
        "colab": {
          "base_uri": "https://localhost:8080/",
          "height": 528
        },
        "id": "C53dW8xoYyNq",
        "outputId": "64d5d937-ae2f-48c7-b8c7-07ad1417d585"
      },
      "execution_count": 25,
      "outputs": [
        {
          "output_type": "execute_result",
          "data": {
            "text/plain": [
              "                                               question  \\\n",
              "0     A junior orthopaedic surgery resident is compl...   \n",
              "1     A 67-year-old man with transitional cell carci...   \n",
              "2     Two weeks after undergoing an emergency cardia...   \n",
              "3     A 39-year-old woman is brought to the emergenc...   \n",
              "4     A 35-year-old man comes to the physician becau...   \n",
              "...                                                 ...   \n",
              "1268  A 39-year-old woman presents to the clinic for...   \n",
              "1269  A 38-year-old woman comes to the physician bec...   \n",
              "1270  A 21-year-old college student comes to the phy...   \n",
              "1271  A 19-year-old man is brought to the physician ...   \n",
              "1272  A 79-year-old man presents to the office due t...   \n",
              "\n",
              "                                                 answer  \\\n",
              "0     Tell the attending that he cannot fail to disc...   \n",
              "1                                  Cross-linking of DNA   \n",
              "2                              Cholesterol embolization   \n",
              "3     Lactose-fermenting, gram-negative rods forming...   \n",
              "4                                   Ketotifen eye drops   \n",
              "...                                                 ...   \n",
              "1268                  Thyroid-stimulating hormone (TSH)   \n",
              "1269                                   Medication abuse   \n",
              "1270                              Stop evening exercise   \n",
              "1271                   Schizotypal personality disorder   \n",
              "1272       Chronic obstructive pulmonary disease (COPD)   \n",
              "\n",
              "                                                options meta_info answer_idx  \\\n",
              "0     {'A': 'Disclose the error to the patient and p...     step1          B   \n",
              "1     {'A': 'Inhibition of proteasome', 'B': 'Hypers...     step1          D   \n",
              "2     {'A': 'Renal papillary necrosis', 'B': 'Choles...   step2&3          B   \n",
              "3     {'A': 'Coagulase-positive, gram-positive cocci...     step1          D   \n",
              "4     {'A': 'Erythromycin ointment', 'B': 'Ketotifen...   step2&3          B   \n",
              "...                                                 ...       ...        ...   \n",
              "1268  {'A': 'Glucose', 'B': 'Triiodothyronine (T3)',...   step2&3          D   \n",
              "1269  {'A': 'Celiac disease', 'B': 'Carcinoid tumor'...   step2&3          D   \n",
              "1270  {'A': 'Trial of diphenhydramine', 'B': 'Stop e...   step2&3          B   \n",
              "1271  {'A': 'Social anxiety disorder', 'B': 'Avoidan...   step2&3          C   \n",
              "1272  {'A': 'Asthma', 'B': 'Lymphangioleiomyomatosis...     step1          C   \n",
              "\n",
              "                                        metamap_phrases answer_gpt4  \n",
              "0     [junior orthopaedic surgery resident, completi...           A  \n",
              "1     [67 year old man, transitional cell carcinoma ...           C  \n",
              "2     [Two weeks, emergency cardiac, stenting, unsta...           B  \n",
              "3     [year old woman, brought, emergency department...           B  \n",
              "4     [35 year old man, physician, of itchy, watery,...           B  \n",
              "...                                                 ...         ...  \n",
              "1268  [year old woman presents, clinic, annual physi...           D  \n",
              "1269  [year old woman, physician, persistent diarrhe...           A  \n",
              "1270  [21-year-old college student, physician, of da...           D  \n",
              "1271  [year old man, brought, physician, mother, wor...           C  \n",
              "1272  [year old man presents, office due to shortnes...           C  \n",
              "\n",
              "[1273 rows x 7 columns]"
            ],
            "text/html": [
              "\n",
              "  <div id=\"df-7f2db0dc-db96-436c-b2f2-47bdd13bcaed\" class=\"colab-df-container\">\n",
              "    <div>\n",
              "<style scoped>\n",
              "    .dataframe tbody tr th:only-of-type {\n",
              "        vertical-align: middle;\n",
              "    }\n",
              "\n",
              "    .dataframe tbody tr th {\n",
              "        vertical-align: top;\n",
              "    }\n",
              "\n",
              "    .dataframe thead th {\n",
              "        text-align: right;\n",
              "    }\n",
              "</style>\n",
              "<table border=\"1\" class=\"dataframe\">\n",
              "  <thead>\n",
              "    <tr style=\"text-align: right;\">\n",
              "      <th></th>\n",
              "      <th>question</th>\n",
              "      <th>answer</th>\n",
              "      <th>options</th>\n",
              "      <th>meta_info</th>\n",
              "      <th>answer_idx</th>\n",
              "      <th>metamap_phrases</th>\n",
              "      <th>answer_gpt4</th>\n",
              "    </tr>\n",
              "  </thead>\n",
              "  <tbody>\n",
              "    <tr>\n",
              "      <th>0</th>\n",
              "      <td>A junior orthopaedic surgery resident is compl...</td>\n",
              "      <td>Tell the attending that he cannot fail to disc...</td>\n",
              "      <td>{'A': 'Disclose the error to the patient and p...</td>\n",
              "      <td>step1</td>\n",
              "      <td>B</td>\n",
              "      <td>[junior orthopaedic surgery resident, completi...</td>\n",
              "      <td>A</td>\n",
              "    </tr>\n",
              "    <tr>\n",
              "      <th>1</th>\n",
              "      <td>A 67-year-old man with transitional cell carci...</td>\n",
              "      <td>Cross-linking of DNA</td>\n",
              "      <td>{'A': 'Inhibition of proteasome', 'B': 'Hypers...</td>\n",
              "      <td>step1</td>\n",
              "      <td>D</td>\n",
              "      <td>[67 year old man, transitional cell carcinoma ...</td>\n",
              "      <td>C</td>\n",
              "    </tr>\n",
              "    <tr>\n",
              "      <th>2</th>\n",
              "      <td>Two weeks after undergoing an emergency cardia...</td>\n",
              "      <td>Cholesterol embolization</td>\n",
              "      <td>{'A': 'Renal papillary necrosis', 'B': 'Choles...</td>\n",
              "      <td>step2&amp;3</td>\n",
              "      <td>B</td>\n",
              "      <td>[Two weeks, emergency cardiac, stenting, unsta...</td>\n",
              "      <td>B</td>\n",
              "    </tr>\n",
              "    <tr>\n",
              "      <th>3</th>\n",
              "      <td>A 39-year-old woman is brought to the emergenc...</td>\n",
              "      <td>Lactose-fermenting, gram-negative rods forming...</td>\n",
              "      <td>{'A': 'Coagulase-positive, gram-positive cocci...</td>\n",
              "      <td>step1</td>\n",
              "      <td>D</td>\n",
              "      <td>[year old woman, brought, emergency department...</td>\n",
              "      <td>B</td>\n",
              "    </tr>\n",
              "    <tr>\n",
              "      <th>4</th>\n",
              "      <td>A 35-year-old man comes to the physician becau...</td>\n",
              "      <td>Ketotifen eye drops</td>\n",
              "      <td>{'A': 'Erythromycin ointment', 'B': 'Ketotifen...</td>\n",
              "      <td>step2&amp;3</td>\n",
              "      <td>B</td>\n",
              "      <td>[35 year old man, physician, of itchy, watery,...</td>\n",
              "      <td>B</td>\n",
              "    </tr>\n",
              "    <tr>\n",
              "      <th>...</th>\n",
              "      <td>...</td>\n",
              "      <td>...</td>\n",
              "      <td>...</td>\n",
              "      <td>...</td>\n",
              "      <td>...</td>\n",
              "      <td>...</td>\n",
              "      <td>...</td>\n",
              "    </tr>\n",
              "    <tr>\n",
              "      <th>1268</th>\n",
              "      <td>A 39-year-old woman presents to the clinic for...</td>\n",
              "      <td>Thyroid-stimulating hormone (TSH)</td>\n",
              "      <td>{'A': 'Glucose', 'B': 'Triiodothyronine (T3)',...</td>\n",
              "      <td>step2&amp;3</td>\n",
              "      <td>D</td>\n",
              "      <td>[year old woman presents, clinic, annual physi...</td>\n",
              "      <td>D</td>\n",
              "    </tr>\n",
              "    <tr>\n",
              "      <th>1269</th>\n",
              "      <td>A 38-year-old woman comes to the physician bec...</td>\n",
              "      <td>Medication abuse</td>\n",
              "      <td>{'A': 'Celiac disease', 'B': 'Carcinoid tumor'...</td>\n",
              "      <td>step2&amp;3</td>\n",
              "      <td>D</td>\n",
              "      <td>[year old woman, physician, persistent diarrhe...</td>\n",
              "      <td>A</td>\n",
              "    </tr>\n",
              "    <tr>\n",
              "      <th>1270</th>\n",
              "      <td>A 21-year-old college student comes to the phy...</td>\n",
              "      <td>Stop evening exercise</td>\n",
              "      <td>{'A': 'Trial of diphenhydramine', 'B': 'Stop e...</td>\n",
              "      <td>step2&amp;3</td>\n",
              "      <td>B</td>\n",
              "      <td>[21-year-old college student, physician, of da...</td>\n",
              "      <td>D</td>\n",
              "    </tr>\n",
              "    <tr>\n",
              "      <th>1271</th>\n",
              "      <td>A 19-year-old man is brought to the physician ...</td>\n",
              "      <td>Schizotypal personality disorder</td>\n",
              "      <td>{'A': 'Social anxiety disorder', 'B': 'Avoidan...</td>\n",
              "      <td>step2&amp;3</td>\n",
              "      <td>C</td>\n",
              "      <td>[year old man, brought, physician, mother, wor...</td>\n",
              "      <td>C</td>\n",
              "    </tr>\n",
              "    <tr>\n",
              "      <th>1272</th>\n",
              "      <td>A 79-year-old man presents to the office due t...</td>\n",
              "      <td>Chronic obstructive pulmonary disease (COPD)</td>\n",
              "      <td>{'A': 'Asthma', 'B': 'Lymphangioleiomyomatosis...</td>\n",
              "      <td>step1</td>\n",
              "      <td>C</td>\n",
              "      <td>[year old man presents, office due to shortnes...</td>\n",
              "      <td>C</td>\n",
              "    </tr>\n",
              "  </tbody>\n",
              "</table>\n",
              "<p>1273 rows × 7 columns</p>\n",
              "</div>\n",
              "    <div class=\"colab-df-buttons\">\n",
              "\n",
              "  <div class=\"colab-df-container\">\n",
              "    <button class=\"colab-df-convert\" onclick=\"convertToInteractive('df-7f2db0dc-db96-436c-b2f2-47bdd13bcaed')\"\n",
              "            title=\"Convert this dataframe to an interactive table.\"\n",
              "            style=\"display:none;\">\n",
              "\n",
              "  <svg xmlns=\"http://www.w3.org/2000/svg\" height=\"24px\" viewBox=\"0 -960 960 960\">\n",
              "    <path d=\"M120-120v-720h720v720H120Zm60-500h600v-160H180v160Zm220 220h160v-160H400v160Zm0 220h160v-160H400v160ZM180-400h160v-160H180v160Zm440 0h160v-160H620v160ZM180-180h160v-160H180v160Zm440 0h160v-160H620v160Z\"/>\n",
              "  </svg>\n",
              "    </button>\n",
              "\n",
              "  <style>\n",
              "    .colab-df-container {\n",
              "      display:flex;\n",
              "      gap: 12px;\n",
              "    }\n",
              "\n",
              "    .colab-df-convert {\n",
              "      background-color: #E8F0FE;\n",
              "      border: none;\n",
              "      border-radius: 50%;\n",
              "      cursor: pointer;\n",
              "      display: none;\n",
              "      fill: #1967D2;\n",
              "      height: 32px;\n",
              "      padding: 0 0 0 0;\n",
              "      width: 32px;\n",
              "    }\n",
              "\n",
              "    .colab-df-convert:hover {\n",
              "      background-color: #E2EBFA;\n",
              "      box-shadow: 0px 1px 2px rgba(60, 64, 67, 0.3), 0px 1px 3px 1px rgba(60, 64, 67, 0.15);\n",
              "      fill: #174EA6;\n",
              "    }\n",
              "\n",
              "    .colab-df-buttons div {\n",
              "      margin-bottom: 4px;\n",
              "    }\n",
              "\n",
              "    [theme=dark] .colab-df-convert {\n",
              "      background-color: #3B4455;\n",
              "      fill: #D2E3FC;\n",
              "    }\n",
              "\n",
              "    [theme=dark] .colab-df-convert:hover {\n",
              "      background-color: #434B5C;\n",
              "      box-shadow: 0px 1px 3px 1px rgba(0, 0, 0, 0.15);\n",
              "      filter: drop-shadow(0px 1px 2px rgba(0, 0, 0, 0.3));\n",
              "      fill: #FFFFFF;\n",
              "    }\n",
              "  </style>\n",
              "\n",
              "    <script>\n",
              "      const buttonEl =\n",
              "        document.querySelector('#df-7f2db0dc-db96-436c-b2f2-47bdd13bcaed button.colab-df-convert');\n",
              "      buttonEl.style.display =\n",
              "        google.colab.kernel.accessAllowed ? 'block' : 'none';\n",
              "\n",
              "      async function convertToInteractive(key) {\n",
              "        const element = document.querySelector('#df-7f2db0dc-db96-436c-b2f2-47bdd13bcaed');\n",
              "        const dataTable =\n",
              "          await google.colab.kernel.invokeFunction('convertToInteractive',\n",
              "                                                    [key], {});\n",
              "        if (!dataTable) return;\n",
              "\n",
              "        const docLinkHtml = 'Like what you see? Visit the ' +\n",
              "          '<a target=\"_blank\" href=https://colab.research.google.com/notebooks/data_table.ipynb>data table notebook</a>'\n",
              "          + ' to learn more about interactive tables.';\n",
              "        element.innerHTML = '';\n",
              "        dataTable['output_type'] = 'display_data';\n",
              "        await google.colab.output.renderOutput(dataTable, element);\n",
              "        const docLink = document.createElement('div');\n",
              "        docLink.innerHTML = docLinkHtml;\n",
              "        element.appendChild(docLink);\n",
              "      }\n",
              "    </script>\n",
              "  </div>\n",
              "\n",
              "\n",
              "<div id=\"df-855a6877-0f66-4885-9f6d-25afee44838c\">\n",
              "  <button class=\"colab-df-quickchart\" onclick=\"quickchart('df-855a6877-0f66-4885-9f6d-25afee44838c')\"\n",
              "            title=\"Suggest charts\"\n",
              "            style=\"display:none;\">\n",
              "\n",
              "<svg xmlns=\"http://www.w3.org/2000/svg\" height=\"24px\"viewBox=\"0 0 24 24\"\n",
              "     width=\"24px\">\n",
              "    <g>\n",
              "        <path d=\"M19 3H5c-1.1 0-2 .9-2 2v14c0 1.1.9 2 2 2h14c1.1 0 2-.9 2-2V5c0-1.1-.9-2-2-2zM9 17H7v-7h2v7zm4 0h-2V7h2v10zm4 0h-2v-4h2v4z\"/>\n",
              "    </g>\n",
              "</svg>\n",
              "  </button>\n",
              "\n",
              "<style>\n",
              "  .colab-df-quickchart {\n",
              "      --bg-color: #E8F0FE;\n",
              "      --fill-color: #1967D2;\n",
              "      --hover-bg-color: #E2EBFA;\n",
              "      --hover-fill-color: #174EA6;\n",
              "      --disabled-fill-color: #AAA;\n",
              "      --disabled-bg-color: #DDD;\n",
              "  }\n",
              "\n",
              "  [theme=dark] .colab-df-quickchart {\n",
              "      --bg-color: #3B4455;\n",
              "      --fill-color: #D2E3FC;\n",
              "      --hover-bg-color: #434B5C;\n",
              "      --hover-fill-color: #FFFFFF;\n",
              "      --disabled-bg-color: #3B4455;\n",
              "      --disabled-fill-color: #666;\n",
              "  }\n",
              "\n",
              "  .colab-df-quickchart {\n",
              "    background-color: var(--bg-color);\n",
              "    border: none;\n",
              "    border-radius: 50%;\n",
              "    cursor: pointer;\n",
              "    display: none;\n",
              "    fill: var(--fill-color);\n",
              "    height: 32px;\n",
              "    padding: 0;\n",
              "    width: 32px;\n",
              "  }\n",
              "\n",
              "  .colab-df-quickchart:hover {\n",
              "    background-color: var(--hover-bg-color);\n",
              "    box-shadow: 0 1px 2px rgba(60, 64, 67, 0.3), 0 1px 3px 1px rgba(60, 64, 67, 0.15);\n",
              "    fill: var(--button-hover-fill-color);\n",
              "  }\n",
              "\n",
              "  .colab-df-quickchart-complete:disabled,\n",
              "  .colab-df-quickchart-complete:disabled:hover {\n",
              "    background-color: var(--disabled-bg-color);\n",
              "    fill: var(--disabled-fill-color);\n",
              "    box-shadow: none;\n",
              "  }\n",
              "\n",
              "  .colab-df-spinner {\n",
              "    border: 2px solid var(--fill-color);\n",
              "    border-color: transparent;\n",
              "    border-bottom-color: var(--fill-color);\n",
              "    animation:\n",
              "      spin 1s steps(1) infinite;\n",
              "  }\n",
              "\n",
              "  @keyframes spin {\n",
              "    0% {\n",
              "      border-color: transparent;\n",
              "      border-bottom-color: var(--fill-color);\n",
              "      border-left-color: var(--fill-color);\n",
              "    }\n",
              "    20% {\n",
              "      border-color: transparent;\n",
              "      border-left-color: var(--fill-color);\n",
              "      border-top-color: var(--fill-color);\n",
              "    }\n",
              "    30% {\n",
              "      border-color: transparent;\n",
              "      border-left-color: var(--fill-color);\n",
              "      border-top-color: var(--fill-color);\n",
              "      border-right-color: var(--fill-color);\n",
              "    }\n",
              "    40% {\n",
              "      border-color: transparent;\n",
              "      border-right-color: var(--fill-color);\n",
              "      border-top-color: var(--fill-color);\n",
              "    }\n",
              "    60% {\n",
              "      border-color: transparent;\n",
              "      border-right-color: var(--fill-color);\n",
              "    }\n",
              "    80% {\n",
              "      border-color: transparent;\n",
              "      border-right-color: var(--fill-color);\n",
              "      border-bottom-color: var(--fill-color);\n",
              "    }\n",
              "    90% {\n",
              "      border-color: transparent;\n",
              "      border-bottom-color: var(--fill-color);\n",
              "    }\n",
              "  }\n",
              "</style>\n",
              "\n",
              "  <script>\n",
              "    async function quickchart(key) {\n",
              "      const quickchartButtonEl =\n",
              "        document.querySelector('#' + key + ' button');\n",
              "      quickchartButtonEl.disabled = true;  // To prevent multiple clicks.\n",
              "      quickchartButtonEl.classList.add('colab-df-spinner');\n",
              "      try {\n",
              "        const charts = await google.colab.kernel.invokeFunction(\n",
              "            'suggestCharts', [key], {});\n",
              "      } catch (error) {\n",
              "        console.error('Error during call to suggestCharts:', error);\n",
              "      }\n",
              "      quickchartButtonEl.classList.remove('colab-df-spinner');\n",
              "      quickchartButtonEl.classList.add('colab-df-quickchart-complete');\n",
              "    }\n",
              "    (() => {\n",
              "      let quickchartButtonEl =\n",
              "        document.querySelector('#df-855a6877-0f66-4885-9f6d-25afee44838c button');\n",
              "      quickchartButtonEl.style.display =\n",
              "        google.colab.kernel.accessAllowed ? 'block' : 'none';\n",
              "    })();\n",
              "  </script>\n",
              "</div>\n",
              "\n",
              "  <div id=\"id_3e157018-9044-4776-89f7-dcefa9d19a10\">\n",
              "    <style>\n",
              "      .colab-df-generate {\n",
              "        background-color: #E8F0FE;\n",
              "        border: none;\n",
              "        border-radius: 50%;\n",
              "        cursor: pointer;\n",
              "        display: none;\n",
              "        fill: #1967D2;\n",
              "        height: 32px;\n",
              "        padding: 0 0 0 0;\n",
              "        width: 32px;\n",
              "      }\n",
              "\n",
              "      .colab-df-generate:hover {\n",
              "        background-color: #E2EBFA;\n",
              "        box-shadow: 0px 1px 2px rgba(60, 64, 67, 0.3), 0px 1px 3px 1px rgba(60, 64, 67, 0.15);\n",
              "        fill: #174EA6;\n",
              "      }\n",
              "\n",
              "      [theme=dark] .colab-df-generate {\n",
              "        background-color: #3B4455;\n",
              "        fill: #D2E3FC;\n",
              "      }\n",
              "\n",
              "      [theme=dark] .colab-df-generate:hover {\n",
              "        background-color: #434B5C;\n",
              "        box-shadow: 0px 1px 3px 1px rgba(0, 0, 0, 0.15);\n",
              "        filter: drop-shadow(0px 1px 2px rgba(0, 0, 0, 0.3));\n",
              "        fill: #FFFFFF;\n",
              "      }\n",
              "    </style>\n",
              "    <button class=\"colab-df-generate\" onclick=\"generateWithVariable('data2_df')\"\n",
              "            title=\"Generate code using this dataframe.\"\n",
              "            style=\"display:none;\">\n",
              "\n",
              "  <svg xmlns=\"http://www.w3.org/2000/svg\" height=\"24px\"viewBox=\"0 0 24 24\"\n",
              "       width=\"24px\">\n",
              "    <path d=\"M7,19H8.4L18.45,9,17,7.55,7,17.6ZM5,21V16.75L18.45,3.32a2,2,0,0,1,2.83,0l1.4,1.43a1.91,1.91,0,0,1,.58,1.4,1.91,1.91,0,0,1-.58,1.4L9.25,21ZM18.45,9,17,7.55Zm-12,3A5.31,5.31,0,0,0,4.9,8.1,5.31,5.31,0,0,0,1,6.5,5.31,5.31,0,0,0,4.9,4.9,5.31,5.31,0,0,0,6.5,1,5.31,5.31,0,0,0,8.1,4.9,5.31,5.31,0,0,0,12,6.5,5.46,5.46,0,0,0,6.5,12Z\"/>\n",
              "  </svg>\n",
              "    </button>\n",
              "    <script>\n",
              "      (() => {\n",
              "      const buttonEl =\n",
              "        document.querySelector('#id_3e157018-9044-4776-89f7-dcefa9d19a10 button.colab-df-generate');\n",
              "      buttonEl.style.display =\n",
              "        google.colab.kernel.accessAllowed ? 'block' : 'none';\n",
              "\n",
              "      buttonEl.onclick = () => {\n",
              "        google.colab.notebook.generateWithVariable('data2_df');\n",
              "      }\n",
              "      })();\n",
              "    </script>\n",
              "  </div>\n",
              "\n",
              "    </div>\n",
              "  </div>\n"
            ],
            "application/vnd.google.colaboratory.intrinsic+json": {
              "type": "dataframe",
              "variable_name": "data2_df",
              "summary": "{\n  \"name\": \"data2_df\",\n  \"rows\": 1273,\n  \"fields\": [\n    {\n      \"column\": \"question\",\n      \"properties\": {\n        \"dtype\": \"string\",\n        \"num_unique_values\": 1273,\n        \"samples\": [\n          \"A healthy 23-year-old male is undergoing an exercise stress test as part of his physiology class. If blood were to be sampled at different locations before and after the stress test, which area of the body would contain the lowest oxygen content at both time points?\",\n          \"A 31-year-old female patient presents with significant swelling and redness of her fingers that is causing her significant pain. Her right knee has also been stiff and slightly swollen for the past 6 weeks. She is overall fatigued and has difficulty moving around but has not sought medical attention until now. On physical examination, the distal interphalangeal joints are swollen, warm, and painful; her nails are pitted and cracked. There are also rough, erythematous skin patches seen over her elbows which have been present for the last few months. She reports that herer father has a similar condition. They both use hydrating creams and topical glucocorticoids with moderate benefit. Which of the following is the most likely diagnosis?\",\n          \"A 47-year-old woman comes to the physician because of progressive muscle weakness for five months. She feels that the muscles in her shoulders and hips have been getting weaker and sometimes feel sore. She now has difficulty getting up from chairs, climbing stairs, and combing her hair. She has also noticed new difficulty with swallowing solid foods, but has no trouble with liquids. She has a 5-year history of hyperlipidemia controlled with fluvastatin. Her maternal uncle died at age 26 from Duchenne's muscular dystrophy and her mother has Hashimoto's thyroiditis. Vital signs are within normal limits. Neurologic examination shows moderate weakness in the arm abductors and hip flexors bilaterally. Deep tendon reflexes are 2+ bilaterally. Laboratory studies show:\\nHemoglobin 13.7 g/dL\\nLeukocytes 11,200/mm3\\nErythrocyte sedimentation rate 33 mm/h\\nSerum\\nCreatine kinase 212 U/L\\nLactate dehydrogenase 164 U/L\\nAST 34 U/L\\nALT 35 U/L\\nWhich of the following is most likely to confirm the diagnosis?\\\"\"\n        ],\n        \"semantic_type\": \"\",\n        \"description\": \"\"\n      }\n    },\n    {\n      \"column\": \"answer\",\n      \"properties\": {\n        \"dtype\": \"string\",\n        \"num_unique_values\": 1217,\n        \"samples\": [\n          \"1 month of associated symptoms \",\n          \"\\u2193 \\u2191 \\u2193\",\n          \"Coronary sinus\"\n        ],\n        \"semantic_type\": \"\",\n        \"description\": \"\"\n      }\n    },\n    {\n      \"column\": \"options\",\n      \"properties\": {\n        \"dtype\": \"object\",\n        \"semantic_type\": \"\",\n        \"description\": \"\"\n      }\n    },\n    {\n      \"column\": \"meta_info\",\n      \"properties\": {\n        \"dtype\": \"category\",\n        \"num_unique_values\": 2,\n        \"samples\": [\n          \"step2&3\",\n          \"step1\"\n        ],\n        \"semantic_type\": \"\",\n        \"description\": \"\"\n      }\n    },\n    {\n      \"column\": \"answer_idx\",\n      \"properties\": {\n        \"dtype\": \"category\",\n        \"num_unique_values\": 4,\n        \"samples\": [\n          \"D\",\n          \"A\"\n        ],\n        \"semantic_type\": \"\",\n        \"description\": \"\"\n      }\n    },\n    {\n      \"column\": \"metamap_phrases\",\n      \"properties\": {\n        \"dtype\": \"object\",\n        \"semantic_type\": \"\",\n        \"description\": \"\"\n      }\n    },\n    {\n      \"column\": \"answer_gpt4\",\n      \"properties\": {\n        \"dtype\": \"category\",\n        \"num_unique_values\": 4,\n        \"samples\": [\n          \"C\",\n          \"D\"\n        ],\n        \"semantic_type\": \"\",\n        \"description\": \"\"\n      }\n    }\n  ]\n}"
            }
          },
          "metadata": {},
          "execution_count": 25
        }
      ]
    },
    {
      "cell_type": "code",
      "source": [
        "#Accuracy for all questions\n",
        "accuracy = data2_df['answer_idx'].eq(data2_df['answer_gpt4']).mean()\n",
        "print(f\"Accuracy of LLM answers: {accuracy}\")"
      ],
      "metadata": {
        "colab": {
          "base_uri": "https://localhost:8080/"
        },
        "id": "SLaNspPGY5am",
        "outputId": "01ffdee7-f9ce-4120-b1b9-288c285e2280"
      },
      "execution_count": 26,
      "outputs": [
        {
          "output_type": "stream",
          "name": "stdout",
          "text": [
            "Accuracy of LLM answers: 0.7384131971720346\n"
          ]
        }
      ]
    },
    {
      "cell_type": "code",
      "source": [
        "#vanilla accuracy for step1 questions\n",
        "step1 = data2_df[data2_df['meta_info'].eq('step1')].copy()\n",
        "step1_accuracy = step1['answer_idx'].eq(step1['answer_gpt4']).mean()\n",
        "print(f\"Accuracy of LLM answers in step1 questions: {step1_accuracy}\")"
      ],
      "metadata": {
        "colab": {
          "base_uri": "https://localhost:8080/"
        },
        "id": "dUS6xx_bxsLc",
        "outputId": "5f77bbda-c6da-41cb-ba80-1990a520c92b"
      },
      "execution_count": 27,
      "outputs": [
        {
          "output_type": "stream",
          "name": "stdout",
          "text": [
            "Accuracy of LLM answers in step1 questions: 0.7407952871870398\n"
          ]
        }
      ]
    },
    {
      "cell_type": "code",
      "source": [
        "#vanilla accuracy for step2&3 questions\n",
        "step23 = data2_df[data2_df['meta_info'].eq('step2&3')].copy()\n",
        "step23_accuracy = step23['answer_idx'].eq(step23['answer_gpt4']).mean()\n",
        "print(f\"Accuracy of LLM answers in step2&3 questions: {step23_accuracy}\")"
      ],
      "metadata": {
        "colab": {
          "base_uri": "https://localhost:8080/"
        },
        "id": "dW9MWB4Qx-zv",
        "outputId": "9dd674db-6d27-4faa-eadd-81ea15f7c507"
      },
      "execution_count": 28,
      "outputs": [
        {
          "output_type": "stream",
          "name": "stdout",
          "text": [
            "Accuracy of LLM answers in step2&3 questions: 0.7356902356902357\n"
          ]
        }
      ]
    },
    {
      "cell_type": "code",
      "source": [
        "# distribution of wrong answers\n",
        "data2_df[~data2_df['answer_idx'].eq(data2_df['answer_gpt4'])].groupby('answer_gpt4').size()"
      ],
      "metadata": {
        "colab": {
          "base_uri": "https://localhost:8080/",
          "height": 241
        },
        "id": "Ip2rYAlG1_q5",
        "outputId": "0c2212bd-3c77-40ee-9dca-f10d3a7b0412"
      },
      "execution_count": 29,
      "outputs": [
        {
          "output_type": "execute_result",
          "data": {
            "text/plain": [
              "answer_gpt4\n",
              "A    99\n",
              "B    87\n",
              "C    76\n",
              "D    71\n",
              "dtype: int64"
            ],
            "text/html": [
              "<div>\n",
              "<style scoped>\n",
              "    .dataframe tbody tr th:only-of-type {\n",
              "        vertical-align: middle;\n",
              "    }\n",
              "\n",
              "    .dataframe tbody tr th {\n",
              "        vertical-align: top;\n",
              "    }\n",
              "\n",
              "    .dataframe thead th {\n",
              "        text-align: right;\n",
              "    }\n",
              "</style>\n",
              "<table border=\"1\" class=\"dataframe\">\n",
              "  <thead>\n",
              "    <tr style=\"text-align: right;\">\n",
              "      <th></th>\n",
              "      <th>0</th>\n",
              "    </tr>\n",
              "    <tr>\n",
              "      <th>answer_gpt4</th>\n",
              "      <th></th>\n",
              "    </tr>\n",
              "  </thead>\n",
              "  <tbody>\n",
              "    <tr>\n",
              "      <th>A</th>\n",
              "      <td>99</td>\n",
              "    </tr>\n",
              "    <tr>\n",
              "      <th>B</th>\n",
              "      <td>87</td>\n",
              "    </tr>\n",
              "    <tr>\n",
              "      <th>C</th>\n",
              "      <td>76</td>\n",
              "    </tr>\n",
              "    <tr>\n",
              "      <th>D</th>\n",
              "      <td>71</td>\n",
              "    </tr>\n",
              "  </tbody>\n",
              "</table>\n",
              "</div><br><label><b>dtype:</b> int64</label>"
            ]
          },
          "metadata": {},
          "execution_count": 29
        }
      ]
    }
  ],
  "metadata": {
    "accelerator": "GPU",
    "colab": {
      "gpuType": "T4",
      "provenance": []
    },
    "kernelspec": {
      "display_name": "Python 3",
      "name": "python3"
    },
    "language_info": {
      "codemirror_mode": {
        "name": "ipython",
        "version": 3
      },
      "file_extension": ".py",
      "mimetype": "text/x-python",
      "name": "python",
      "nbconvert_exporter": "python",
      "pygments_lexer": "ipython3",
      "version": "3.12.3"
    }
  },
  "nbformat": 4,
  "nbformat_minor": 0
}